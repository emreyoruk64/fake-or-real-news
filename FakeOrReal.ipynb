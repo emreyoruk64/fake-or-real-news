{
 "cells": [
  {
   "cell_type": "markdown",
   "id": "388c03b2-e63d-422e-8ee4-8e83ba3979ab",
   "metadata": {},
   "source": [
    "## Fake or Real News Classification using Logistic Regression\n",
    "\n",
    "Bu projede, haber metinlerinin sahte mi yoksa gerçek mi olduğunu sınıflandırmak için **TF-IDF** yöntemi ile metin vektörleştirme yapılmış ve ardından **Lojistik Regresyon** modeli uygulanmıştır.\r\n",
    "\r\n",
    "Proje kapsamında:\r\n",
    "\r\n",
    "- Kaggle'dan alınan dengeli bir veri kümesi kullanılmıştır.\r\n",
    "- Modelin başarımı `Accuracy`, `Precision`, `Recall`, `F1-score` ve `ROC AUC` gibi metriklerle değerlendirilmiştir.\r\n",
    "- `GridSearchCV` ile model parametreleri optimize edilmiştir.\r\n",
    "- Rastgele seçilen haberler üzerinde modelin tahmini test edilmiştir.\r\n",
    "\r\n",
    "Bu notebook, gözetimli öğrenme (supervised learning) yaklaşımıyla NLP alanında temel bir metin sınıflandırma uygulamasını kapsamaktadır."
   ]
  },
  {
   "cell_type": "markdown",
   "id": "a968ba8b-e7ee-40d1-b859-747306e16d42",
   "metadata": {},
   "source": [
    "## GEREKLİ KÜTÜPHANELERİN YÜKLENMESİ\n",
    "\r\n",
    "Bu hücrede, veri analizi (Pandas, NumPy), görselleştirme (Matplotlib, Seaborn) ve makine öğrenmesi için gerekli Scikit-learn kütüphaneleri import edilmektedirAyrıca metin verilerini sayısal forma dönüştürmek için TfidVectorizer kullanılacaktır..\r\n"
   ]
  },
  {
   "cell_type": "code",
   "execution_count": 108,
   "id": "6d2c0077-0c38-47f5-b9b5-61d88c2edf5b",
   "metadata": {},
   "outputs": [],
   "source": [
    "import pandas as pd\n",
    "import numpy as np\n",
    "import matplotlib.pyplot as plt\n",
    "import seaborn as sns\n",
    "import random\n",
    "from sklearn.linear_model import LogisticRegression\n",
    "from sklearn.model_selection import train_test_split,cross_val_score,cross_validate,GridSearchCV\n",
    "from sklearn.metrics import accuracy_score,precision_score,recall_score,f1_score,classification_report,roc_auc_score,roc_curve,auc\n",
    "from sklearn.metrics import confusion_matrix, ConfusionMatrixDisplay\n",
    "from sklearn.feature_extraction.text import TfidfVectorizer"
   ]
  },
  {
   "cell_type": "markdown",
   "id": "43a952a8-e335-420d-855d-d8e4a83581fa",
   "metadata": {},
   "source": [
    "## VERİ SETİNİN YÜKLENMESİ\n",
    "\n",
    "Haberlerin sahte mi gerçek mi olduğunu içeren veri seti CSV formatında içe aktarılmaktadır..\r\n"
   ]
  },
  {
   "cell_type": "code",
   "execution_count": 53,
   "id": "f0a35107-5542-4003-8b43-689e16c9ac45",
   "metadata": {},
   "outputs": [],
   "source": [
    "df=pd.read_csv(\"news_datasets.csv\")"
   ]
  },
  {
   "cell_type": "markdown",
   "id": "e0e50635-94c9-4925-b3ba-d4505b28e1ff",
   "metadata": {},
   "source": [
    "## VERİ SETİNİN İLK 5 SATIRI\n",
    "\n",
    "\r\n",
    "Veri setinin genel yapısını görmek amacıyla ilk 5 satır görüntülenmektedirBu adımda veri sütunları (title,text,label) incelenir.\r\n"
   ]
  },
  {
   "cell_type": "code",
   "execution_count": 54,
   "id": "7df4e97e-4f80-4fa4-9d26-1f869eb7f4e3",
   "metadata": {},
   "outputs": [
    {
     "data": {
      "text/html": [
       "<div>\n",
       "<style scoped>\n",
       "    .dataframe tbody tr th:only-of-type {\n",
       "        vertical-align: middle;\n",
       "    }\n",
       "\n",
       "    .dataframe tbody tr th {\n",
       "        vertical-align: top;\n",
       "    }\n",
       "\n",
       "    .dataframe thead th {\n",
       "        text-align: right;\n",
       "    }\n",
       "</style>\n",
       "<table border=\"1\" class=\"dataframe\">\n",
       "  <thead>\n",
       "    <tr style=\"text-align: right;\">\n",
       "      <th></th>\n",
       "      <th>Unnamed: 0</th>\n",
       "      <th>title</th>\n",
       "      <th>text</th>\n",
       "      <th>label</th>\n",
       "    </tr>\n",
       "  </thead>\n",
       "  <tbody>\n",
       "    <tr>\n",
       "      <th>0</th>\n",
       "      <td>8476</td>\n",
       "      <td>You Can Smell Hillary’s Fear</td>\n",
       "      <td>Daniel Greenfield, a Shillman Journalism Fello...</td>\n",
       "      <td>FAKE</td>\n",
       "    </tr>\n",
       "    <tr>\n",
       "      <th>1</th>\n",
       "      <td>10294</td>\n",
       "      <td>Watch The Exact Moment Paul Ryan Committed Pol...</td>\n",
       "      <td>Google Pinterest Digg Linkedin Reddit Stumbleu...</td>\n",
       "      <td>FAKE</td>\n",
       "    </tr>\n",
       "    <tr>\n",
       "      <th>2</th>\n",
       "      <td>3608</td>\n",
       "      <td>Kerry to go to Paris in gesture of sympathy</td>\n",
       "      <td>U.S. Secretary of State John F. Kerry said Mon...</td>\n",
       "      <td>REAL</td>\n",
       "    </tr>\n",
       "    <tr>\n",
       "      <th>3</th>\n",
       "      <td>10142</td>\n",
       "      <td>Bernie supporters on Twitter erupt in anger ag...</td>\n",
       "      <td>— Kaydee King (@KaydeeKing) November 9, 2016 T...</td>\n",
       "      <td>FAKE</td>\n",
       "    </tr>\n",
       "    <tr>\n",
       "      <th>4</th>\n",
       "      <td>875</td>\n",
       "      <td>The Battle of New York: Why This Primary Matters</td>\n",
       "      <td>It's primary day in New York and front-runners...</td>\n",
       "      <td>REAL</td>\n",
       "    </tr>\n",
       "  </tbody>\n",
       "</table>\n",
       "</div>"
      ],
      "text/plain": [
       "   Unnamed: 0                                              title  \\\n",
       "0        8476                       You Can Smell Hillary’s Fear   \n",
       "1       10294  Watch The Exact Moment Paul Ryan Committed Pol...   \n",
       "2        3608        Kerry to go to Paris in gesture of sympathy   \n",
       "3       10142  Bernie supporters on Twitter erupt in anger ag...   \n",
       "4         875   The Battle of New York: Why This Primary Matters   \n",
       "\n",
       "                                                text label  \n",
       "0  Daniel Greenfield, a Shillman Journalism Fello...  FAKE  \n",
       "1  Google Pinterest Digg Linkedin Reddit Stumbleu...  FAKE  \n",
       "2  U.S. Secretary of State John F. Kerry said Mon...  REAL  \n",
       "3  — Kaydee King (@KaydeeKing) November 9, 2016 T...  FAKE  \n",
       "4  It's primary day in New York and front-runners...  REAL  "
      ]
     },
     "execution_count": 54,
     "metadata": {},
     "output_type": "execute_result"
    }
   ],
   "source": [
    "df.head()"
   ]
  },
  {
   "cell_type": "markdown",
   "id": "adb8cbc7-492d-49b8-90dd-9f7c18ee8b6f",
   "metadata": {},
   "source": [
    "## GEREKSİZ SÜTUNUN TEMİZLENMESİ\n",
    "\n",
    "CSV dosyası yüklenirken oluşan `Unnamed: 0` adlı index sütunu analiz için gereksiz olduğundan kaldırılmıştır."
   ]
  },
  {
   "cell_type": "code",
   "execution_count": 55,
   "id": "3e5d5f4d-78ea-431b-aefa-2fa6d7b60de1",
   "metadata": {},
   "outputs": [],
   "source": [
    "df = df.drop(columns=['Unnamed: 0'])"
   ]
  },
  {
   "cell_type": "markdown",
   "id": "015fdda0-ae9d-47ae-a835-18c2bf1eafa1",
   "metadata": {},
   "source": [
    "## VERİ SETİNİN YAPISI\n",
    "\n",
    "Bu komut kullanılarak veri setinin sütunlarırı, veri tipi ve boş değer kontrolü yapılmışt.3 sütunlu ve 6335 satırlı bir veri seti ile çalışılmaktadır.\r\n"
   ]
  },
  {
   "cell_type": "code",
   "execution_count": 56,
   "id": "972a8750-4545-4c88-85dc-c194c4d3a910",
   "metadata": {},
   "outputs": [
    {
     "name": "stdout",
     "output_type": "stream",
     "text": [
      "<class 'pandas.core.frame.DataFrame'>\n",
      "RangeIndex: 6335 entries, 0 to 6334\n",
      "Data columns (total 3 columns):\n",
      " #   Column  Non-Null Count  Dtype \n",
      "---  ------  --------------  ----- \n",
      " 0   title   6335 non-null   object\n",
      " 1   text    6335 non-null   object\n",
      " 2   label   6335 non-null   object\n",
      "dtypes: object(3)\n",
      "memory usage: 148.6+ KB\n"
     ]
    }
   ],
   "source": [
    "df.info()"
   ]
  },
  {
   "cell_type": "markdown",
   "id": "e676386b-da6f-4a6b-ac1d-f0df6c1223f1",
   "metadata": {},
   "source": [
    "## EKSİK DEĞER KONTROLÜ\n",
    "\n",
    "Her sütundaki eksik değer sayısı hesaplanarak veri temizliği açısından kontrol edilmiştir."
   ]
  },
  {
   "cell_type": "code",
   "execution_count": 57,
   "id": "a21cd2f3-57ee-41fa-8d54-e09670d80b64",
   "metadata": {},
   "outputs": [
    {
     "data": {
      "text/plain": [
       "title    0\n",
       "text     0\n",
       "label    0\n",
       "dtype: int64"
      ]
     },
     "execution_count": 57,
     "metadata": {},
     "output_type": "execute_result"
    }
   ],
   "source": [
    "df.isnull().sum()"
   ]
  },
  {
   "cell_type": "markdown",
   "id": "b017b6b9-49bd-4801-937c-041a5b83cb85",
   "metadata": {},
   "source": [
    "## VERİ SETİNİN BOYUTU\n",
    "\n",
    "Veri setinin satır ve sütun sayısı incelenmiştir. Bu veri seti 6335 satır ve 3 sütun içermektedir"
   ]
  },
  {
   "cell_type": "code",
   "execution_count": 58,
   "id": "52b812c5-ca5e-44e3-a562-910365a202fa",
   "metadata": {},
   "outputs": [
    {
     "data": {
      "text/plain": [
       "(6335, 3)"
      ]
     },
     "execution_count": 58,
     "metadata": {},
     "output_type": "execute_result"
    }
   ],
   "source": [
    "df.shape"
   ]
  },
  {
   "cell_type": "code",
   "execution_count": 59,
   "id": "4bbfa28f-0290-4760-8625-83496e84d2da",
   "metadata": {},
   "outputs": [
    {
     "name": "stdout",
     "output_type": "stream",
     "text": [
      "label\n",
      "REAL    3171\n",
      "FAKE    3164\n",
      "Name: count, dtype: int64\n"
     ]
    }
   ],
   "source": [
    "print(df['label'].value_counts())"
   ]
  },
  {
   "cell_type": "markdown",
   "id": "3ba096df-1e42-4347-9015-1ce0966756c3",
   "metadata": {},
   "source": [
    "## ETİKET DAĞILIMININ İNCELENMESİ\n",
    "\n",
    "Sahte ve gerçek haberlerin dağılımı hem sayısal hem de oran olarak analiz edilmiştir. Veri seti dengelidir, bu da modelleme için avantajlıdır"
   ]
  },
  {
   "cell_type": "code",
   "execution_count": 60,
   "id": "f2be9fe7-748a-4887-866d-4a27fef51532",
   "metadata": {},
   "outputs": [
    {
     "data": {
      "text/plain": [
       "label\n",
       "REAL    0.500552\n",
       "FAKE    0.499448\n",
       "Name: proportion, dtype: float64"
      ]
     },
     "execution_count": 60,
     "metadata": {},
     "output_type": "execute_result"
    }
   ],
   "source": [
    "df['label'].value_counts(normalize=True)"
   ]
  },
  {
   "cell_type": "markdown",
   "id": "67dbec06-d2b4-417a-88e1-472791086906",
   "metadata": {},
   "source": [
    "## ETİKETLERİN SAYISALLAŞTIRILMASI\n",
    "\n",
    "Sınıflandırma modeliyle çalışabilmek için \"FAKE\" etiketi 1'e, \"REAL\" etiketi 0'a dönüştürülmüştür"
   ]
  },
  {
   "cell_type": "code",
   "execution_count": 61,
   "id": "5e522dd6-e520-48e4-96d1-057b8f242b7f",
   "metadata": {},
   "outputs": [],
   "source": [
    "df['label'] = df['label'].map({'FAKE': 1, 'REAL': 0})"
   ]
  },
  {
   "cell_type": "markdown",
   "id": "77e49691-4f33-4b7b-bb9e-4e059d17b6e8",
   "metadata": {},
   "source": [
    "## DÖNÜŞTÜRÜLMÜŞ VERİNİN SON HALİ\n",
    "\n",
    "Sayısal etiketlerin veri setine başarılı şekilde yansıyıp yansımadığı kontrol edilmiştir"
   ]
  },
  {
   "cell_type": "code",
   "execution_count": 62,
   "id": "b5db5673-ad3a-42a2-9194-41afb1755b1d",
   "metadata": {},
   "outputs": [
    {
     "data": {
      "text/html": [
       "<div>\n",
       "<style scoped>\n",
       "    .dataframe tbody tr th:only-of-type {\n",
       "        vertical-align: middle;\n",
       "    }\n",
       "\n",
       "    .dataframe tbody tr th {\n",
       "        vertical-align: top;\n",
       "    }\n",
       "\n",
       "    .dataframe thead th {\n",
       "        text-align: right;\n",
       "    }\n",
       "</style>\n",
       "<table border=\"1\" class=\"dataframe\">\n",
       "  <thead>\n",
       "    <tr style=\"text-align: right;\">\n",
       "      <th></th>\n",
       "      <th>title</th>\n",
       "      <th>text</th>\n",
       "      <th>label</th>\n",
       "    </tr>\n",
       "  </thead>\n",
       "  <tbody>\n",
       "    <tr>\n",
       "      <th>0</th>\n",
       "      <td>You Can Smell Hillary’s Fear</td>\n",
       "      <td>Daniel Greenfield, a Shillman Journalism Fello...</td>\n",
       "      <td>1</td>\n",
       "    </tr>\n",
       "    <tr>\n",
       "      <th>1</th>\n",
       "      <td>Watch The Exact Moment Paul Ryan Committed Pol...</td>\n",
       "      <td>Google Pinterest Digg Linkedin Reddit Stumbleu...</td>\n",
       "      <td>1</td>\n",
       "    </tr>\n",
       "    <tr>\n",
       "      <th>2</th>\n",
       "      <td>Kerry to go to Paris in gesture of sympathy</td>\n",
       "      <td>U.S. Secretary of State John F. Kerry said Mon...</td>\n",
       "      <td>0</td>\n",
       "    </tr>\n",
       "    <tr>\n",
       "      <th>3</th>\n",
       "      <td>Bernie supporters on Twitter erupt in anger ag...</td>\n",
       "      <td>— Kaydee King (@KaydeeKing) November 9, 2016 T...</td>\n",
       "      <td>1</td>\n",
       "    </tr>\n",
       "    <tr>\n",
       "      <th>4</th>\n",
       "      <td>The Battle of New York: Why This Primary Matters</td>\n",
       "      <td>It's primary day in New York and front-runners...</td>\n",
       "      <td>0</td>\n",
       "    </tr>\n",
       "  </tbody>\n",
       "</table>\n",
       "</div>"
      ],
      "text/plain": [
       "                                               title  \\\n",
       "0                       You Can Smell Hillary’s Fear   \n",
       "1  Watch The Exact Moment Paul Ryan Committed Pol...   \n",
       "2        Kerry to go to Paris in gesture of sympathy   \n",
       "3  Bernie supporters on Twitter erupt in anger ag...   \n",
       "4   The Battle of New York: Why This Primary Matters   \n",
       "\n",
       "                                                text  label  \n",
       "0  Daniel Greenfield, a Shillman Journalism Fello...      1  \n",
       "1  Google Pinterest Digg Linkedin Reddit Stumbleu...      1  \n",
       "2  U.S. Secretary of State John F. Kerry said Mon...      0  \n",
       "3  — Kaydee King (@KaydeeKing) November 9, 2016 T...      1  \n",
       "4  It's primary day in New York and front-runners...      0  "
      ]
     },
     "execution_count": 62,
     "metadata": {},
     "output_type": "execute_result"
    }
   ],
   "source": [
    "df.head()"
   ]
  },
  {
   "cell_type": "markdown",
   "id": "9161ae78-54eb-4254-9bd2-1e641e326542",
   "metadata": {},
   "source": [
    "## BAĞIMLI DEĞİŞKENİN TANIMLANMASI\n",
    "\n",
    "Modelin hedef değişkeni olan etiketler y olarak ayrı bir değişkene atanmıştır "
   ]
  },
  {
   "cell_type": "code",
   "execution_count": 63,
   "id": "d065591a-85fe-40b7-83c1-072c63cf482d",
   "metadata": {},
   "outputs": [],
   "source": [
    "y=df[\"label\"]"
   ]
  },
  {
   "cell_type": "markdown",
   "id": "4453eab1-3fe0-4e29-a22e-86a563bf9868",
   "metadata": {},
   "source": [
    "## BAŞLIK VE İÇERİĞİN BİRLEŞTİRİLMESİ\n",
    "\n",
    "Modelin daha iyi öğrenebilmesi için haberin başlığı ve içeriği birleştirilerek tek bir metin sütunu oluşturulmuştur"
   ]
  },
  {
   "cell_type": "code",
   "execution_count": 64,
   "id": "95ec2929-4fd1-46b7-b12f-f8f3a6fb56f9",
   "metadata": {},
   "outputs": [],
   "source": [
    "df['combined'] = df['title'] + \" \" + df['text']"
   ]
  },
  {
   "cell_type": "markdown",
   "id": "4b4c7d6f-b00e-4a59-81a5-beac14d8bd6d",
   "metadata": {},
   "source": [
    "## METİN VERİSİNİN SAYISALLAŞTIRILMASI\n",
    "\n",
    "Birleştirilen metin sütunu, TF-IDF yöntemiyle sayısal forma dönüştürülmüştür. \"stop_words=english\" ve \"max_df=0.7\" parametreleri ile sık geçen kelimeler elenmiştir"
   ]
  },
  {
   "cell_type": "code",
   "execution_count": 65,
   "id": "4126b132-2d94-436b-8420-0f8633d6c8cf",
   "metadata": {},
   "outputs": [],
   "source": [
    "vectorizer = TfidfVectorizer(stop_words='english', max_df=0.7)\n",
    "X = vectorizer.fit_transform(df['combined'])"
   ]
  },
  {
   "cell_type": "markdown",
   "id": "34ced89e-a894-4bd3-8ce1-3f71c0d99b9f",
   "metadata": {},
   "source": [
    "## EĞİTİM VE TEST VERİSİNİN AYRILMASI\n",
    "\n",
    "Veri setinin %80'i eğitim, %20'si test için ayrılmıştır. \"random_state=64\" sabitlenerek aynı bölünmenin tekrarlanabilir olması sağlanmıştır"
   ]
  },
  {
   "cell_type": "code",
   "execution_count": 66,
   "id": "b857c994-9e86-4d6f-ba05-3157fd82637b",
   "metadata": {},
   "outputs": [],
   "source": [
    "X_train,X_test,y_train,y_test=train_test_split(X,y,test_size=0.2,random_state=64)"
   ]
  },
  {
   "cell_type": "markdown",
   "id": "1bd26e13-a5bb-4a69-8565-2fb02c83d0dc",
   "metadata": {},
   "source": [
    "## LOJİSTİK REGRESYON MODELİNİN EĞİTİMİ\n",
    "\n",
    "Veri setinin eğitim kısmı ile Lojistik Regresyon modeli eğitilmiş, test verisi üzerinden tahmin yapılmıştır.\n",
    "\"predict_proba\" fonksiyonu ile her sınıfa ait olasılıklar elde edilmiştir\n"
   ]
  },
  {
   "cell_type": "code",
   "execution_count": 67,
   "id": "5d7d3d00-1189-4a9c-9b1a-78a30ffc0d3a",
   "metadata": {},
   "outputs": [],
   "source": [
    "model=LogisticRegression().fit(X_train,y_train)"
   ]
  },
  {
   "cell_type": "code",
   "execution_count": 68,
   "id": "2dd14d29-d60e-4ddb-bbf0-e24446ceb403",
   "metadata": {},
   "outputs": [],
   "source": [
    "y_pred=model.predict(X_test)\n",
    "y_prob=model.predict_proba(X_test)[:,1]"
   ]
  },
  {
   "cell_type": "markdown",
   "id": "0fdf58cb-801b-4341-b4aa-a443558be3e9",
   "metadata": {},
   "source": [
    "## SINIFLANDIRMA RAPORU VE ROC-AUC DEĞERİ\n",
    "\n",
    "Presicion,recall, f1-score gibi metrikleri içeren genel sınıflandırma raporu elde edilmiştir. Ayrıca modelin ROC-AUC değeri hesaplanarak genel ayrım gücü ölçülmüştür"
   ]
  },
  {
   "cell_type": "code",
   "execution_count": 69,
   "id": "c1fdc711-df56-4a86-86a5-2c301fc57dc1",
   "metadata": {},
   "outputs": [
    {
     "name": "stdout",
     "output_type": "stream",
     "text": [
      "              precision    recall  f1-score   support\n",
      "\n",
      "           0       0.95      0.87      0.91       649\n",
      "           1       0.88      0.95      0.91       618\n",
      "\n",
      "    accuracy                           0.91      1267\n",
      "   macro avg       0.91      0.91      0.91      1267\n",
      "weighted avg       0.91      0.91      0.91      1267\n",
      "\n"
     ]
    }
   ],
   "source": [
    "print(classification_report(y_test,y_pred))"
   ]
  },
  {
   "cell_type": "code",
   "execution_count": 70,
   "id": "d61ca221-bf36-43c2-8b71-cf78c9a75bcd",
   "metadata": {},
   "outputs": [
    {
     "data": {
      "text/plain": [
       "0.9766057813614174"
      ]
     },
     "execution_count": 70,
     "metadata": {},
     "output_type": "execute_result"
    }
   ],
   "source": [
    "roc_auc_score(y_test,y_prob)"
   ]
  },
  {
   "cell_type": "markdown",
   "id": "f9a6aa9f-cdff-4e6d-a622-c34c7806e561",
   "metadata": {},
   "source": [
    "## KARMAŞIKLIK MATRİSİ\n",
    "\n",
    "Modelin doğru ve yanlış sınıflandırmalarının sayısal olarak gösterildiği karmaşıklık matrisi çizilmiştir"
   ]
  },
  {
   "cell_type": "code",
   "execution_count": 71,
   "id": "f4401aef-074d-4fe7-a5f7-13ff864a46da",
   "metadata": {},
   "outputs": [
    {
     "data": {
      "image/png": "[encoded data removed]",
      "text/plain": [
       "<Figure size 640x480 with 2 Axes>"
      ]
     },
     "metadata": {},
     "output_type": "display_data"
    }
   ],
   "source": [
    "cm = confusion_matrix(y_test, y_pred)\n",
    "disp = ConfusionMatrixDisplay(confusion_matrix=cm, display_labels=model.classes_)\n",
    "disp.plot(cmap=plt.cm.Blues)\n",
    "plt.title(\"Confusion Matrix\")\n",
    "plt.show()"
   ]
  },
  {
   "cell_type": "markdown",
   "id": "f1fd8571-9c08-48e8-9dca-e4d2888bfe05",
   "metadata": {},
   "source": [
    "## MODELİ RASTGELE BİR HABER ÜZERİNDE TEST ETME\n",
    "\n",
    "Veri setinden rastgele bir haber seçilerek metni ve FAKE mi yoksa REAL mı olduğunu gösteren etiketi görüntülenmiştir. Bu adım, modelin gerçek dünyada nasıl performans göstereceğini gözlemlemek için faydalıdır"
   ]
  },
  {
   "cell_type": "code",
   "execution_count": 113,
   "id": "cadc83e9-d6c8-491a-aa7d-ba9c690539df",
   "metadata": {},
   "outputs": [
    {
     "name": "stdout",
     "output_type": "stream",
     "text": [
      "Metin:\n",
      " Re: Don’t CLICK that, stupid! Is this email from March 2016 where #PodestaEmails21 and others started? Don’t CLICK that, stupid! Is this email from March 2016 how ‘hackers’ accessed #PodestaEmails21 and others? Posted at 11:22 am on October 28, 2016 by Sam J. Share on Facebook Share on Twitter \n",
      "Baby Boomers and the Interwebz. \n",
      "Dear John and other people who have been living under a rock, Google wouldn’t send you an email called, “Someone has your password.” Likely it would be a message about a p ... [devamı]\n",
      "Etiket: 1\n"
     ]
    }
   ],
   "source": [
    "random_news = df.sample(1, random_state=random.randint(0, 10000))\n",
    "print(\"Metin:\\n\", random_news['combined'].values[0][:500], \"... [devamı]\")\n",
    "print(\"Etiket:\", random_news['label'].values[0]) # FAKE : 1 , REAL : 0 "
   ]
  },
  {
   "cell_type": "markdown",
   "id": "0b7da4ee-524b-4e81-bb96-90c8c3cad537",
   "metadata": {},
   "source": [
    "## CROSS VALİDATİON İLE PERFORMANS DEĞERLENDİRMESİ\n",
    "\n",
    "10 katlı çapraz doğrulama uygulanarak modelin accuracy,recall,precision ve f1-score'u değerlendirilmiştir"
   ]
  },
  {
   "cell_type": "code",
   "execution_count": 73,
   "id": "7e328842-2497-4bc9-9c71-f31ba19369eb",
   "metadata": {},
   "outputs": [],
   "source": [
    "cv_results=cross_validate(model,X,y,cv=10,scoring=[\"precision\",\"recall\",\"accuracy\",\"f1\"])"
   ]
  },
  {
   "cell_type": "code",
   "execution_count": 74,
   "id": "cbf9b643-e0b0-4c3b-9e2a-296ac9ae0b2d",
   "metadata": {},
   "outputs": [
    {
     "data": {
      "text/plain": [
       "{'fit_time': array([0.20957637, 0.18358231, 0.18089056, 0.18690348, 0.15738034,\n",
       "        0.17039347, 0.20266581, 0.24138069, 0.16052938, 0.16403747]),\n",
       " 'score_time': array([0.0041554 , 0.00581861, 0.0040915 , 0.00822973, 0.00404382,\n",
       "        0.00463295, 0.0091958 , 0.00820398, 0.00409532, 0.00820351]),\n",
       " 'test_precision': array([0.90634441, 0.87142857, 0.88046647, 0.8914956 , 0.92      ,\n",
       "        0.89253731, 0.92      , 0.90461538, 0.89020772, 0.90461538]),\n",
       " 'test_recall': array([0.94637224, 0.96214511, 0.95268139, 0.95899054, 0.94620253,\n",
       "        0.94620253, 0.94620253, 0.93037975, 0.94936709, 0.93037975]),\n",
       " 'test_accuracy': array([0.92429022, 0.91009464, 0.91167192, 0.92113565, 0.93217666,\n",
       "        0.91627172, 0.93206951, 0.91627172, 0.91627172, 0.91627172]),\n",
       " 'test_f1': array([0.92592593, 0.91454273, 0.91515152, 0.92401216, 0.93291732,\n",
       "        0.91858679, 0.93291732, 0.91731669, 0.91883614, 0.91731669])}"
      ]
     },
     "execution_count": 74,
     "metadata": {},
     "output_type": "execute_result"
    }
   ],
   "source": [
    "cv_results"
   ]
  },
  {
   "cell_type": "code",
   "execution_count": 75,
   "id": "7f5ed55b-aec3-4eef-bf24-1d036ae875fb",
   "metadata": {},
   "outputs": [
    {
     "data": {
      "text/plain": [
       "0.9196525483277769"
      ]
     },
     "execution_count": 75,
     "metadata": {},
     "output_type": "execute_result"
    }
   ],
   "source": [
    "cv_results[\"test_accuracy\"].mean()"
   ]
  },
  {
   "cell_type": "code",
   "execution_count": 76,
   "id": "b56ef2c4-4ed2-469c-9b4a-171a401409fb",
   "metadata": {},
   "outputs": [
    {
     "data": {
      "text/plain": [
       "0.946892345166314"
      ]
     },
     "execution_count": 76,
     "metadata": {},
     "output_type": "execute_result"
    }
   ],
   "source": [
    "cv_results[\"test_recall\"].mean()"
   ]
  },
  {
   "cell_type": "code",
   "execution_count": 77,
   "id": "b6dd2381-f17b-4abf-86ed-a2acca9b45a0",
   "metadata": {},
   "outputs": [
    {
     "data": {
      "text/plain": [
       "0.8981710853578069"
      ]
     },
     "execution_count": 77,
     "metadata": {},
     "output_type": "execute_result"
    }
   ],
   "source": [
    "cv_results[\"test_precision\"].mean()"
   ]
  },
  {
   "cell_type": "code",
   "execution_count": 78,
   "id": "18389582-959a-4ec2-87ee-2657bb4b6421",
   "metadata": {},
   "outputs": [
    {
     "data": {
      "text/plain": [
       "0.9217523276931322"
      ]
     },
     "execution_count": 78,
     "metadata": {},
     "output_type": "execute_result"
    }
   ],
   "source": [
    "cv_results[\"test_f1\"].mean()"
   ]
  },
  {
   "cell_type": "code",
   "execution_count": 79,
   "id": "d8204236-666f-474f-acd5-20c80939cdd0",
   "metadata": {},
   "outputs": [
    {
     "data": {
      "text/plain": [
       "{'C': 1.0,\n",
       " 'class_weight': None,\n",
       " 'dual': False,\n",
       " 'fit_intercept': True,\n",
       " 'intercept_scaling': 1,\n",
       " 'l1_ratio': None,\n",
       " 'max_iter': 100,\n",
       " 'multi_class': 'auto',\n",
       " 'n_jobs': None,\n",
       " 'penalty': 'l2',\n",
       " 'random_state': None,\n",
       " 'solver': 'lbfgs',\n",
       " 'tol': 0.0001,\n",
       " 'verbose': 0,\n",
       " 'warm_start': False}"
      ]
     },
     "execution_count": 79,
     "metadata": {},
     "output_type": "execute_result"
    }
   ],
   "source": [
    "model.get_params()"
   ]
  },
  {
   "cell_type": "markdown",
   "id": "2c007fd2-60e6-4f42-a014-743046efb779",
   "metadata": {},
   "source": [
    "## HİPERPARAMETRE AYARI (GRİDSEARCHCV)\n",
    "\n",
    "Lojistik Regresyon modelinin en iyi parametrelerini bulmak için GridSearchCV uygulanmıştır. 'penalty','C','max_iter' gibi hiperparametreler optimize edilmiştir"
   ]
  },
  {
   "cell_type": "code",
   "execution_count": 80,
   "id": "4371d381-b232-4c24-bcc7-9fd977b5bc57",
   "metadata": {},
   "outputs": [],
   "source": [
    "param_grid = {\n",
    "    'C': [0.01, 0.1, 1, 10],\n",
    "    'penalty': ['l1', 'l2'],\n",
    "    'solver': ['liblinear'],  # l1 için lbfgs desteklemez!\n",
    "    'max_iter': [100, 200],\n",
    "    'class_weight': [None, 'balanced']\n",
    "}"
   ]
  },
  {
   "cell_type": "code",
   "execution_count": 81,
   "id": "0dc9c64b-94c1-4418-ad77-74c9a7d1f47e",
   "metadata": {},
   "outputs": [
    {
     "name": "stdout",
     "output_type": "stream",
     "text": [
      "Fitting 10 folds for each of 32 candidates, totalling 320 fits\n"
     ]
    }
   ],
   "source": [
    "best_grid=GridSearchCV(model,param_grid,cv=10,n_jobs=-1,verbose=1).fit(X_train,y_train) "
   ]
  },
  {
   "cell_type": "code",
   "execution_count": 82,
   "id": "353ee58f-e0ad-423b-8301-855e72c4d0f1",
   "metadata": {},
   "outputs": [
    {
     "data": {
      "text/plain": [
       "{'C': 10,\n",
       " 'class_weight': 'balanced',\n",
       " 'max_iter': 100,\n",
       " 'penalty': 'l2',\n",
       " 'solver': 'liblinear'}"
      ]
     },
     "execution_count": 82,
     "metadata": {},
     "output_type": "execute_result"
    }
   ],
   "source": [
    "best_grid.best_params_"
   ]
  },
  {
   "cell_type": "code",
   "execution_count": 83,
   "id": "917b3b67-2287-4e0d-881f-0a9ecbf13d8f",
   "metadata": {},
   "outputs": [
    {
     "data": {
      "text/plain": [
       "0.9337013042698661"
      ]
     },
     "execution_count": 83,
     "metadata": {},
     "output_type": "execute_result"
    }
   ],
   "source": [
    "best_grid.best_score_"
   ]
  },
  {
   "cell_type": "markdown",
   "id": "44c03acf-62a5-4bfd-9b4c-7371bf349d6c",
   "metadata": {},
   "source": [
    "## FİNAL MODELİNİN EĞİTİLMESİ VE PERFORMANS ÖLÇÜMÜ\n",
    "\n",
    "GridSearchCV sonucu elde edilen en iyi parametreler ile final modeli yeniden eğitilmiştir"
   ]
  },
  {
   "cell_type": "code",
   "execution_count": 84,
   "id": "d565cb09-f606-415b-8280-c4e193834315",
   "metadata": {},
   "outputs": [],
   "source": [
    "final_model=LogisticRegression(**best_grid.best_params_,random_state=64).fit(X_train,y_train)"
   ]
  },
  {
   "cell_type": "code",
   "execution_count": 87,
   "id": "33bc8ebf-db58-4db4-b98c-583d0ebefeaa",
   "metadata": {},
   "outputs": [],
   "source": [
    "y_prob_final = final_model.predict_proba(X_test)[:, 1]"
   ]
  },
  {
   "cell_type": "markdown",
   "id": "c6d04a4c-c4ce-47e9-a98e-a13811097b5a",
   "metadata": {},
   "source": [
    "## ROC EĞRİSİ VE AUC SKORU\n",
    "\n",
    "Bu hücrede, final modelin sınıflandırma performansı, ROC eğrisi üzerinden görselleştirilmiştir. ROC eğrisi, modelin farklı eşik değerlerindeki \"True Positive Rate (Duyarlılık)\" ve \"False Positive Rate (Yanlış Pozitiflik)\" oranlarını karşılaştırır. \n",
    "Eğrinin altındaki alan olan AUC skoru, modelin sınıflar arasında ne kadar iyi ayrım yapabildiğini ölçer"
   ]
  },
  {
   "cell_type": "code",
   "execution_count": 107,
   "id": "353cca38-89ab-4f99-bbed-ff167d6d509b",
   "metadata": {},
   "outputs": [
    {
     "data": {
      "image/png": "[encoded data removed]",
      "text/plain": [
       "<Figure size 800x600 with 1 Axes>"
      ]
     },
     "metadata": {},
     "output_type": "display_data"
    },
    {
     "name": "stdout",
     "output_type": "stream",
     "text": [
      "📈 AUC Skoru: 0.9827\n"
     ]
    }
   ],
   "source": [
    "fpr, tpr, thresholds = roc_curve(y_test, y_prob_final)\n",
    "roc_auc = auc(fpr, tpr)\n",
    "\n",
    "\n",
    "plt.figure(figsize=(8, 6))\n",
    "plt.plot(fpr, tpr, color='darkorange', lw=2, label=f'ROC curve (AUC = {roc_auc:.2f})')\n",
    "plt.plot([0, 1], [0, 1], color='navy', lw=2, linestyle='--')\n",
    "plt.xlabel('False Positive Rate')\n",
    "plt.ylabel('True Positive Rate')\n",
    "plt.title('ROC Eğrisi - Final Model')\n",
    "plt.legend(loc=\"lower right\")\n",
    "plt.grid()\n",
    "plt.show()\n",
    "print(f\"📈 AUC Skoru: {roc_auc:.4f}\")"
   ]
  },
  {
   "cell_type": "code",
   "execution_count": 89,
   "id": "5035298b-5156-47ac-a827-adcfe195b3b7",
   "metadata": {},
   "outputs": [
    {
     "data": {
      "text/plain": [
       "{'C': 10,\n",
       " 'class_weight': 'balanced',\n",
       " 'dual': False,\n",
       " 'fit_intercept': True,\n",
       " 'intercept_scaling': 1,\n",
       " 'l1_ratio': None,\n",
       " 'max_iter': 100,\n",
       " 'multi_class': 'auto',\n",
       " 'n_jobs': None,\n",
       " 'penalty': 'l2',\n",
       " 'random_state': 64,\n",
       " 'solver': 'liblinear',\n",
       " 'tol': 0.0001,\n",
       " 'verbose': 0,\n",
       " 'warm_start': False}"
      ]
     },
     "execution_count": 89,
     "metadata": {},
     "output_type": "execute_result"
    }
   ],
   "source": [
    "final_model.get_params()"
   ]
  },
  {
   "cell_type": "code",
   "execution_count": 90,
   "id": "02b8dfc6-14c6-46ba-ac04-b92d04ca7ef8",
   "metadata": {},
   "outputs": [],
   "source": [
    "final_model=final_model.set_params(**best_grid.best_params_).fit(X_train,y_train)"
   ]
  },
  {
   "cell_type": "code",
   "execution_count": 74,
   "id": "0b8a542f-44da-4303-8687-62f2eb8e386d",
   "metadata": {},
   "outputs": [],
   "source": [
    "cv_results=cross_validate(final_model,X,y,cv=10,scoring=[\"f1\",\"roc_auc\",\"accuracy\"])"
   ]
  },
  {
   "cell_type": "code",
   "execution_count": 75,
   "id": "cdbc4f34-ecca-4d6b-86f3-a291f85928dd",
   "metadata": {},
   "outputs": [
    {
     "data": {
      "text/plain": [
       "0.9399029401177804"
      ]
     },
     "execution_count": 75,
     "metadata": {},
     "output_type": "execute_result"
    }
   ],
   "source": [
    "cv_results[\"test_f1\"].mean()"
   ]
  },
  {
   "cell_type": "code",
   "execution_count": 76,
   "id": "e5eeeace-a4ca-48b0-beb5-6e645c5219c1",
   "metadata": {},
   "outputs": [
    {
     "data": {
      "text/plain": [
       "0.9832719095692758"
      ]
     },
     "execution_count": 76,
     "metadata": {},
     "output_type": "execute_result"
    }
   ],
   "source": [
    "cv_results[\"test_roc_auc\"].mean()"
   ]
  },
  {
   "cell_type": "code",
   "execution_count": 77,
   "id": "f3eaf729-ebfc-4432-b60c-ad323983b6b3",
   "metadata": {},
   "outputs": [
    {
     "data": {
      "text/plain": [
       "0.9389108994772277"
      ]
     },
     "execution_count": 77,
     "metadata": {},
     "output_type": "execute_result"
    }
   ],
   "source": [
    "cv_results[\"test_accuracy\"].mean()"
   ]
  },
  {
   "cell_type": "markdown",
   "id": "b50a7c2c-f16b-4749-a90f-0245e5a21fdf",
   "metadata": {},
   "source": [
    "## FİNAL MODELİ İLE RASTGELE HABER ÜZERİNDE TAHMİN\n",
    "\n",
    "Son model ile, rastgele seçilen haberin FAKE mi yoksa REAL mı olduğu gözlemlenmiştir"
   ]
  },
  {
   "cell_type": "code",
   "execution_count": 111,
   "id": "54223e94-7acc-412a-82cc-30cf69e83342",
   "metadata": {},
   "outputs": [],
   "source": [
    "random_news = df.sample(1, random_state=random.randint(0, 10000))\n",
    "vec = vectorizer.transform(random_news['combined'])\n",
    "predicted_label = final_model.predict(vec)[0]"
   ]
  },
  {
   "cell_type": "code",
   "execution_count": 112,
   "id": "aa1c7a42-6ad2-43b8-9883-84f41b86109f",
   "metadata": {},
   "outputs": [
    {
     "name": "stdout",
     "output_type": "stream",
     "text": [
      "Metin:\n",
      " part 38 “Impossible” statues, “Impossible” ancient jewellery, Moscow nuked, “Impossible” steel [VIDEO] Click Here To Learn More About Alexandra's Personalized Essences Psychic Protection Click Here for More Information on Psychic Protection! Implant Removal Series Click here to listen to the IRP and SA/DNA Process Read The Testimonials Click Here To Read What Others Are Experiencing! Copyright © 2012 by Galactic Connection. All Rights Reserved. \n",
      "Excerpts may be used, provided that full and clear ... [devamı]\n",
      "Gerçek Etiket: FAKE\n",
      "Model Tahmini: FAKE\n"
     ]
    }
   ],
   "source": [
    "print(\"Metin:\\n\", random_news['combined'].values[0][:500], \"... [devamı]\")\n",
    "print(\"Gerçek Etiket:\", \"FAKE\" if random_news['label'].values[0] == 1 else \"REAL\")\n",
    "print(\"Model Tahmini:\", \"FAKE\" if predicted_label == 1 else \"REAL\")"
   ]
  },
  {
   "cell_type": "code",
   "execution_count": null,
   "id": "136b4e3f-db3e-4fdf-82f2-4f7c93c3647c",
   "metadata": {},
   "outputs": [],
   "source": []
  }
 ],
 "metadata": {
  "kernelspec": {
   "display_name": "Python 3 (ipykernel)",
   "language": "python",
   "name": "python3"
  },
  "language_info": {
   "codemirror_mode": {
    "name": "ipython",
    "version": 3
   },
   "file_extension": ".py",
   "mimetype": "text/x-python",
   "name": "python",
   "nbconvert_exporter": "python",
   "pygments_lexer": "ipython3",
   "version": "3.12.4"
  }
 },
 "nbformat": 4,
 "nbformat_minor": 5
}
